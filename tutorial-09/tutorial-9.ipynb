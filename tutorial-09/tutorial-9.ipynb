{
  "nbformat": 4,
  "nbformat_minor": 0,
  "metadata": {
    "colab": {
      "name": "inversion.ipynb",
      "provenance": [],
      "collapsed_sections": []
    },
    "kernelspec": {
      "name": "python3",
      "display_name": "Python 3"
    },
    "language_info": {
      "name": "python"
    },
    "accelerator": "GPU"
  },
  "cells": [
    {
      "cell_type": "code",
      "metadata": {
        "colab": {
          "base_uri": "https://localhost:8080/"
        },
        "id": "zcYhjnkAvk_a",
        "outputId": "06c8bbff-717d-486a-e506-59f41f22330f"
      },
      "source": [
        "!git clone https://github.com/olivesgatech/Semi-supervised-Learning-for-Acoustic-Impedance-Inversion"
      ],
      "execution_count": 15,
      "outputs": [
        {
          "output_type": "stream",
          "text": [
            "Cloning into 'Semi-supervised-Learning-for-Acoustic-Impedance-Inversion'...\n",
            "remote: Enumerating objects: 61, done.\u001b[K\n",
            "remote: Counting objects: 100% (61/61), done.\u001b[K\n",
            "remote: Compressing objects: 100% (44/44), done.\u001b[K\n",
            "remote: Total 118 (delta 26), reused 41 (delta 16), pack-reused 57\u001b[K\n",
            "Receiving objects: 100% (118/118), 97.38 MiB | 31.49 MiB/s, done.\n",
            "Resolving deltas: 100% (37/37), done.\n"
          ],
          "name": "stdout"
        }
      ]
    },
    {
      "cell_type": "code",
      "metadata": {
        "colab": {
          "base_uri": "https://localhost:8080/"
        },
        "id": "AVAe4zLjv4I6",
        "outputId": "ea69b955-ae3e-4b49-d340-f78c6579c847"
      },
      "source": [
        "%cd Semi-supervised-Learning-for-Acoustic-Impedance-Inversion/"
      ],
      "execution_count": 16,
      "outputs": [
        {
          "output_type": "stream",
          "text": [
            "/content/Semi-supervised-Learning-for-Acoustic-Impedance-Inversion/Semi-supervised-Learning-for-Acoustic-Impedance-Inversion\n"
          ],
          "name": "stdout"
        }
      ]
    },
    {
      "cell_type": "markdown",
      "metadata": {
        "id": "3dnufoddxWo0"
      },
      "source": [
        "Step by step tutorial"
      ]
    },
    {
      "cell_type": "markdown",
      "metadata": {
        "id": "xv-aEKTyxm_2"
      },
      "source": [
        "load data"
      ]
    },
    {
      "cell_type": "code",
      "metadata": {
        "id": "5HwXAiDuxswf"
      },
      "source": [
        "import numpy as np\n",
        "import matplotlib.pyplot as plt\n",
        "\n",
        "import torch"
      ],
      "execution_count": 17,
      "outputs": []
    },
    {
      "cell_type": "code",
      "metadata": {
        "id": "zAgMBcmvxn_q"
      },
      "source": [
        "data_dic = np.load(\"data/data.npy\",allow_pickle=True).item()\n",
        "\n",
        "seismic_data = data_dic[\"seismic\"]\n",
        "acoustic_impedance_data = data_dic[\"acoustic_impedance\"]"
      ],
      "execution_count": 18,
      "outputs": []
    },
    {
      "cell_type": "markdown",
      "metadata": {
        "id": "9Tjuh9sUysQl"
      },
      "source": [
        "pre-process"
      ]
    },
    {
      "cell_type": "code",
      "metadata": {
        "id": "rB4G-fnE3Y8H"
      },
      "source": [
        "#%% Normalization\n",
        "class Normalization:\n",
        "    def __init__(self, mean_val=None,std_val=None):\n",
        "        self.mean_val = mean_val\n",
        "        self.std_val = std_val\n",
        "\n",
        "    def normalize(self, x):\n",
        "        return (x-self.mean_val)/self.std_val\n",
        "\n",
        "    def unnormalize(self, x):\n",
        "        return x*self.std_val + self.mean_val"
      ],
      "execution_count": 19,
      "outputs": []
    },
    {
      "cell_type": "code",
      "metadata": {
        "id": "kDFj7mySyvgl"
      },
      "source": [
        "seismic_mean = torch.tensor(np.mean(seismic_data,keepdims=True)).float()\n",
        "seismic_std = torch.tensor(np.std(seismic_data,keepdims=True)).float()\n",
        "\n",
        "acoustic_mean= torch.tensor(np.mean(acoustic_impedance_data, keepdims=True)).float()\n",
        "acoustic_std = torch.tensor(np.std(acoustic_impedance_data,keepdims=True)).float()\n",
        "\n",
        "\n",
        "seismic_data = torch.tensor(seismic_data).float()\n",
        "acoustic_impedance_data = torch.tensor(acoustic_impedance_data).float()\n",
        "\n",
        "\n",
        "seismic_normalization = Normalization(mean_val=seismic_mean,\n",
        "                                      std_val=seismic_std)\n",
        "\n",
        "acoustic_normalization = Normalization(mean_val=acoustic_mean,\n",
        "                                      std_val=acoustic_std)\n",
        "\n",
        "\n",
        "seismic_data = seismic_normalization.normalize(seismic_data)\n",
        "acoustic_impedance_data = acoustic_normalization.normalize(acoustic_impedance_data)"
      ],
      "execution_count": 20,
      "outputs": []
    },
    {
      "cell_type": "markdown",
      "metadata": {
        "id": "zWsWoVXOyxZG"
      },
      "source": [
        "Set up data loader"
      ]
    },
    {
      "cell_type": "code",
      "metadata": {
        "id": "awLsiv8i0RiG"
      },
      "source": [
        "from torch.utils import data\n",
        "\n",
        "num_train_wells = 20\n",
        "batch_size = 64\n",
        "num_samples = seismic_data.shape[0]\n",
        "indecies = np.arange(0,num_samples)\n",
        "train_indecies = indecies[(np.linspace(0,len(indecies)-1, num_train_wells)).astype(int)]\n",
        "\n",
        "train_data = data.Subset(data.TensorDataset(seismic_data,acoustic_impedance_data), train_indecies)\n",
        "train_loader = data.DataLoader(train_data, batch_size=batch_size, shuffle=False)\n",
        "\n",
        "unlabeled_loader = data.DataLoader(data.TensorDataset(seismic_data), batch_size=batch_size, shuffle=True)\n",
        "\n",
        "\n",
        "test_loader = data.DataLoader(data.TensorDataset(seismic_data,acoustic_impedance_data), batch_size=batch_size, shuffle=False, drop_last=False)"
      ],
      "execution_count": 21,
      "outputs": []
    },
    {
      "cell_type": "markdown",
      "metadata": {
        "id": "tJuFFZK0zKYB"
      },
      "source": [
        "get model"
      ]
    },
    {
      "cell_type": "code",
      "metadata": {
        "id": "EkbgCaQJzmmx"
      },
      "source": [
        "import torch\n",
        "import torch.nn as nn\n",
        "from torch.nn.utils import weight_norm\n",
        "from torch.nn.functional import conv1d\n",
        "\n",
        "\n",
        "\n",
        "class inverse_model(nn.Module):\n",
        "    def __init__(self,resolution_ratio=4,nonlinearity=\"tanh\"):\n",
        "        super(inverse_model, self).__init__()\n",
        "        self.resolution_ratio = resolution_ratio\n",
        "        self.activation =  nn.ReLU() if nonlinearity==\"relu\" else nn.Tanh()\n",
        "\n",
        "        self.cnn1 = nn.Sequential(nn.Conv1d(in_channels=1,\n",
        "                                           out_channels=8,\n",
        "                                           kernel_size=5,\n",
        "                                           padding=2,\n",
        "                                           dilation=1),\n",
        "                                  nn.GroupNorm(num_groups=1,\n",
        "                                               num_channels=8))\n",
        "\n",
        "        self.cnn2 = nn.Sequential(nn.Conv1d(in_channels=1,\n",
        "                                           out_channels=8,\n",
        "                                           kernel_size=5,\n",
        "                                           padding=6,\n",
        "                                           dilation=3),\n",
        "                                  nn.GroupNorm(num_groups=1,\n",
        "                                               num_channels=8))\n",
        "\n",
        "        self.cnn3 = nn.Sequential(nn.Conv1d(in_channels=1,\n",
        "                                           out_channels=8,\n",
        "                                           kernel_size=5,\n",
        "                                           padding=12,\n",
        "                                           dilation=6),\n",
        "                                  nn.GroupNorm(num_groups=1,\n",
        "                                               num_channels=8))\n",
        "\n",
        "        self.cnn = nn.Sequential(self.activation,\n",
        "                                 nn.Conv1d(in_channels=24,\n",
        "                                           out_channels=16,\n",
        "                                           kernel_size=3,\n",
        "                                           padding=1),\n",
        "                                 nn.GroupNorm(num_groups=1,\n",
        "                                              num_channels=16),\n",
        "                                 self.activation,\n",
        "\n",
        "                                 nn.Conv1d(in_channels=16,\n",
        "                                           out_channels=16,\n",
        "                                           kernel_size=3,\n",
        "                                           padding=1),\n",
        "                                 nn.GroupNorm(num_groups=1,\n",
        "                                              num_channels=16),\n",
        "                                 self.activation,\n",
        "\n",
        "                                 nn.Conv1d(in_channels=16,\n",
        "                                           out_channels=16,\n",
        "                                           kernel_size=1),\n",
        "                                 nn.GroupNorm(num_groups=1,\n",
        "                                              num_channels=16),\n",
        "                                 self.activation)\n",
        "\n",
        "        self.gru = nn.GRU(input_size=1,\n",
        "                          hidden_size=8,\n",
        "                          num_layers=3,\n",
        "                          batch_first=True,\n",
        "                          bidirectional=True)\n",
        "\n",
        "        self.up = nn.Sequential(nn.ConvTranspose1d(in_channels=16,\n",
        "                                                   out_channels=8,\n",
        "                                                   stride=2,\n",
        "                                                   kernel_size=4,\n",
        "                                                   padding=1),\n",
        "                                nn.GroupNorm(num_groups=1,\n",
        "                                             num_channels=8),\n",
        "                                self.activation,\n",
        "\n",
        "                                nn.ConvTranspose1d(in_channels=8,\n",
        "                                                   out_channels=8,\n",
        "                                                   stride=2,\n",
        "                                                   kernel_size=4,\n",
        "                                                   padding=1),\n",
        "                                nn.GroupNorm(num_groups=1,\n",
        "                                             num_channels=8),\n",
        "                                self.activation)\n",
        "\n",
        "        self.gru_out = nn.GRU(input_size=8,\n",
        "                              hidden_size=8,\n",
        "                              num_layers=1,\n",
        "                              batch_first=True,\n",
        "                              bidirectional=True)\n",
        "        self.out = nn.Linear(in_features=16, out_features=1)\n",
        "\n",
        "\n",
        "        for m in self.modules():\n",
        "            if isinstance(m, nn.Conv1d) or isinstance(m, nn.ConvTranspose1d):\n",
        "                nn.init.xavier_uniform_(m.weight.data)\n",
        "                m.bias.data.zero_()\n",
        "            elif isinstance(m, nn.GroupNorm):\n",
        "                m.weight.data.fill_(1)\n",
        "                m.bias.data.zero_()\n",
        "            elif isinstance(m, nn.Linear):\n",
        "                m.bias.data.zero_()\n",
        "\n",
        "    def forward(self, x):\n",
        "        cnn_out1 = self.cnn1(x)\n",
        "        cnn_out2 = self.cnn2(x)\n",
        "        cnn_out3 = self.cnn3(x)\n",
        "        cnn_out = self.cnn(torch.cat((cnn_out1,cnn_out2,cnn_out3),dim=1))\n",
        "\n",
        "        tmp_x = x.transpose(-1, -2)\n",
        "        rnn_out, _ = self.gru(tmp_x)\n",
        "        rnn_out = rnn_out.transpose(-1, -2)\n",
        "\n",
        "        x = rnn_out + cnn_out\n",
        "        x = self.up(x)\n",
        "\n",
        "        tmp_x = x.transpose(-1, -2)\n",
        "        x, _ = self.gru_out(tmp_x)\n",
        "\n",
        "        x = self.out(x)\n",
        "        x = x.transpose(-1,-2)\n",
        "        return x\n",
        "\n",
        "\n",
        "\n",
        "class forward_model(nn.Module):\n",
        "    def __init__(self,resolution_ratio=4,nonlinearity=\"tanh\"):\n",
        "        super(forward_model, self).__init__()\n",
        "        self.resolution_ratio = resolution_ratio\n",
        "        self.activation =  nn.ReLU() if nonlinearity==\"relu\" else nn.Tanh()\n",
        "        self.cnn = nn.Sequential(nn.Conv1d(in_channels=1, out_channels=4, kernel_size=9, padding=4),\n",
        "                                 self.activation,\n",
        "                                 nn.Conv1d(in_channels=4, out_channels=4,kernel_size=7, padding=3),\n",
        "                                 self.activation,\n",
        "                                 nn.Conv1d(in_channels=4, out_channels=1,kernel_size=3, padding=1))\n",
        "\n",
        "\n",
        "        self.wavelet = nn.Conv1d(in_channels=1,\n",
        "                             out_channels=1,\n",
        "                             stride=self.resolution_ratio,\n",
        "                             kernel_size=50,\n",
        "                             padding=int((50-self.resolution_ratio+2)/2))\n",
        "\n",
        "    def forward(self, x):\n",
        "        x = self.cnn(x)\n",
        "        x = self.wavelet(x)\n",
        "        return x"
      ],
      "execution_count": 22,
      "outputs": []
    },
    {
      "cell_type": "code",
      "metadata": {
        "id": "m85bZ2-rzLv9"
      },
      "source": [
        "from torch import nn, optim\n",
        "\n",
        "inverse_net = inverse_model()\n",
        "forward_net = forward_model()\n",
        "optimizer = optim.Adam(list(inverse_net.parameters())+list(forward_net.parameters()), amsgrad=True,lr=0.005)"
      ],
      "execution_count": 23,
      "outputs": []
    },
    {
      "cell_type": "code",
      "metadata": {
        "id": "lJKiqGTX0-zk"
      },
      "source": [
        "\n",
        "inverse_net.train()\n",
        "criterion = nn.MSELoss()"
      ],
      "execution_count": 24,
      "outputs": []
    },
    {
      "cell_type": "code",
      "metadata": {
        "id": "o_O6ARaE1bCc"
      },
      "source": [
        "#%% Metrics\n",
        "def metrics(y,x):\n",
        "    #x: reference signal\n",
        "    #y: estimated signal\n",
        "\n",
        "    x = x.numpy()\n",
        "\n",
        "    y = y.numpy()\n",
        "\n",
        "    #corrlation\n",
        "    x_mean = np.mean(x, axis=-1, keepdims=True)\n",
        "    y_mean = np.mean(y, axis=-1, keepdims=True)\n",
        "    x_std = np.std(x, axis=-1, keepdims=True)\n",
        "    y_std = np.std(y, axis=-1, keepdims=True)\n",
        "    corr = np.mean((x-x_mean)*(y-y_mean), axis=-1,keepdims=True)/(x_std*y_std)\n",
        "\n",
        "    #coefficeint of determination (r2)\n",
        "    S_tot = np.sum((x-x_mean)**2, axis=-1, keepdims=True)\n",
        "    S_res = np.sum((x - y)**2, axis=-1, keepdims=True)\n",
        "\n",
        "    r2 = (1-S_res/S_tot)\n",
        "\n",
        "    return torch.tensor(corr), torch.tensor(r2)\n"
      ],
      "execution_count": 25,
      "outputs": []
    },
    {
      "cell_type": "code",
      "metadata": {
        "colab": {
          "base_uri": "https://localhost:8080/"
        },
        "id": "U80rpVPE0_2Q",
        "outputId": "7bf886f1-2676-4aed-eb80-d48fd0b242d1"
      },
      "source": [
        "from tqdm import tqdm\n",
        "\n",
        "max_epoch = 100\n",
        "alpha = 1\n",
        "beta = 0.2\n",
        "\n",
        "\n",
        "print(\"Training the model\")\n",
        "best_loss = np.inf\n",
        "for epoch in tqdm(range(max_epoch)):\n",
        "    train_loss = []\n",
        "    train_property_corr = []\n",
        "    train_property_r2 = []\n",
        "    for x,y in train_loader:\n",
        "        optimizer.zero_grad()\n",
        "        y_pred = inverse_net(x)\n",
        "        x_rec = forward_net(y)\n",
        "\n",
        "        property_loss = criterion(y_pred,y)+criterion(x_rec, x)\n",
        "        corr, r2 = metrics(y_pred.detach(),y.detach())\n",
        "        train_property_corr.append(corr)\n",
        "        train_property_r2.append(r2)\n",
        "\n",
        "        if beta!=0:\n",
        "            #loading unlabeled data\n",
        "            try:\n",
        "                x_u = next(unlabeled)[0]\n",
        "            except:\n",
        "                unlabeled = iter(unlabeled_loader)\n",
        "                x_u = next(unlabeled)[0]\n",
        "\n",
        "            y_u_pred = inverse_net(x_u)\n",
        "            x_u_rec = forward_net(y_u_pred)\n",
        "\n",
        "            seismic_loss = criterion(x_u_rec,x_u)\n",
        "        else:\n",
        "            seismic_loss=0\n",
        "        loss = alpha*property_loss + beta*seismic_loss\n",
        "        loss.backward()\n",
        "        optimizer.step()\n",
        "\n",
        "        train_loss.append(loss.detach().clone())"
      ],
      "execution_count": 26,
      "outputs": [
        {
          "output_type": "stream",
          "text": [
            "\r  0%|          | 0/100 [00:00<?, ?it/s]"
          ],
          "name": "stderr"
        },
        {
          "output_type": "stream",
          "text": [
            "Training the model\n"
          ],
          "name": "stdout"
        },
        {
          "output_type": "stream",
          "text": [
            "100%|██████████| 100/100 [04:11<00:00,  2.51s/it]\n"
          ],
          "name": "stderr"
        }
      ]
    },
    {
      "cell_type": "code",
      "metadata": {
        "colab": {
          "base_uri": "https://localhost:8080/",
          "height": 399
        },
        "id": "NsdzgM9S1HQx",
        "outputId": "afe84bbe-b7e1-4aa1-9886-bfe450d56ac7"
      },
      "source": [
        "def display_results(loss, property_corr, property_r2, header):\n",
        "    property_corr = torch.mean(torch.cat(property_corr), dim=0).squeeze()\n",
        "    property_r2 = torch.mean(torch.cat(property_r2), dim=0).squeeze()\n",
        "    loss = torch.mean(torch.tensor(loss))\n",
        "    print(\"loss: {:.4f}\\nCorrelation: {:0.4f}\\nr2 Coeff.  : {:0.4f}\".format(loss,property_corr,property_r2))\n",
        "\n",
        "\n",
        "\n",
        "predicted_impedance = []\n",
        "true_impedance = []\n",
        "test_property_corr = []\n",
        "test_property_r2 = []\n",
        "inverse_net.eval()\n",
        "print(\"\\nTesting the model\\n\")\n",
        "\n",
        "with torch.no_grad():\n",
        "    test_loss = []\n",
        "    for x,y in test_loader:\n",
        "        y_pred = inverse_net(x)\n",
        "        property_loss = criterion(y_pred,y)/np.prod(y.shape)\n",
        "        corr, r2 = metrics(y_pred.detach(),y.detach())\n",
        "        test_property_corr.append(corr)\n",
        "        test_property_r2.append(r2)\n",
        "\n",
        "        x_rec = forward_net(y_pred)\n",
        "        seismic_loss = criterion(x_rec, x)/np.prod(x.shape)\n",
        "        loss = alpha*property_loss + beta*seismic_loss\n",
        "        test_loss.append(loss.item())\n",
        "\n",
        "        true_impedance.append(y)\n",
        "        predicted_impedance.append(y_pred)\n",
        "\n",
        "\n",
        "    display_results(test_loss, test_property_corr, test_property_r2, header=\"Test\")\n",
        "\n",
        "    predicted_impedance = torch.cat(predicted_impedance, dim=0)\n",
        "    true_impedance = torch.cat(true_impedance, dim=0)\n",
        "\n",
        "    predicted_impedance = acoustic_normalization.unnormalize(predicted_impedance)\n",
        "    true_impedance = acoustic_normalization.unnormalize(true_impedance)\n",
        "\n",
        "\n",
        "\n",
        "    predicted_impedance = predicted_impedance.numpy()\n",
        "    true_impedance = true_impedance.numpy()\n",
        "\n",
        "    #diplaying estimated section\n",
        "\n",
        "    plt.subplot(3,1,1)\n",
        "    plt.imshow(predicted_impedance[:,0].T, cmap='rainbow',aspect=0.5, vmin=true_impedance.min(), vmax=true_impedance.max())\n",
        "    plt.axis('off')\n",
        "    plt.title(\"Estimated Acoustic Impedance\")\n",
        "\n",
        "    plt.subplot(3,1,2)\n",
        "    plt.imshow(true_impedance[:,0].T, cmap='rainbow',aspect=0.5,vmin=true_impedance.min(), vmax=true_impedance.max())\n",
        "    plt.title(\"True Acoustic Impedance\")\n",
        "    plt.axis('off')\n",
        "\n",
        "    plt.subplot(3,1,3)\n",
        "    plt.imshow(abs(true_impedance[:,0].T-predicted_impedance[:,0].T), cmap='gray',aspect=0.5)\n",
        "    plt.title(\"Absolute Difference\")\n",
        "    plt.axis('off')\n",
        "\n",
        "    plt.tight_layout()\n",
        "\n",
        "\n",
        "    plt.show()"
      ],
      "execution_count": 28,
      "outputs": [
        {
          "output_type": "stream",
          "text": [
            "\n",
            "Testing the model\n",
            "\n",
            "loss: 0.0000\n",
            "Correlation: 0.9454\n",
            "r2 Coeff.  : 0.8552\n"
          ],
          "name": "stdout"
        },
        {
          "output_type": "display_data",
          "data": {
            "image/png": "[encoded data removed]",
            "text/plain": [
              "<Figure size 432x288 with 3 Axes>"
            ]
          },
          "metadata": {
            "tags": [],
            "needs_background": "light"
          }
        }
      ]
    },
    {
      "cell_type": "code",
      "metadata": {
        "id": "GRl_1yfq2m_J"
      },
      "source": [
        ""
      ],
      "execution_count": 26,
      "outputs": []
    }
  ]
}
